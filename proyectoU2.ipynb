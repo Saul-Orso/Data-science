{
 "cells": [
  {
   "cell_type": "code",
   "execution_count": 306,
   "id": "b61bb99e-9b1a-4bd6-bbfc-46bd867df35a",
   "metadata": {},
   "outputs": [],
   "source": [
    "import pandas as pd\n",
    "import matplotlib as plt\n",
    "from matplotlib import pyplot\n",
    "import numpy as np"
   ]
  },
  {
   "cell_type": "code",
   "execution_count": 307,
   "id": "25ed033e-344e-4442-b957-f968b4a0e635",
   "metadata": {},
   "outputs": [
    {
     "data": {
      "text/html": [
       "<div>\n",
       "<style scoped>\n",
       "    .dataframe tbody tr th:only-of-type {\n",
       "        vertical-align: middle;\n",
       "    }\n",
       "\n",
       "    .dataframe tbody tr th {\n",
       "        vertical-align: top;\n",
       "    }\n",
       "\n",
       "    .dataframe thead th {\n",
       "        text-align: right;\n",
       "    }\n",
       "</style>\n",
       "<table border=\"1\" class=\"dataframe\">\n",
       "  <thead>\n",
       "    <tr style=\"text-align: right;\">\n",
       "      <th></th>\n",
       "      <th>Estado</th>\n",
       "      <th>Región</th>\n",
       "      <th>l3</th>\n",
       "      <th>habitaciones</th>\n",
       "      <th>dormitorios</th>\n",
       "      <th>baños</th>\n",
       "      <th>superficeTerreno</th>\n",
       "      <th>superficieConstruido</th>\n",
       "      <th>precio</th>\n",
       "      <th>tipoPropiedad</th>\n",
       "    </tr>\n",
       "  </thead>\n",
       "  <tbody>\n",
       "    <tr>\n",
       "      <th>0</th>\n",
       "      <td>Durango</td>\n",
       "      <td>Zona Norte</td>\n",
       "      <td>Pilar</td>\n",
       "      <td>1</td>\n",
       "      <td>1</td>\n",
       "      <td>1.0</td>\n",
       "      <td>50.0</td>\n",
       "      <td>35.0</td>\n",
       "      <td>450000</td>\n",
       "      <td>Departamento</td>\n",
       "    </tr>\n",
       "    <tr>\n",
       "      <th>1</th>\n",
       "      <td>Durango</td>\n",
       "      <td>Zona Norte</td>\n",
       "      <td>Pilar</td>\n",
       "      <td>1</td>\n",
       "      <td>1</td>\n",
       "      <td>1.0</td>\n",
       "      <td>32.0</td>\n",
       "      <td>32.0</td>\n",
       "      <td>350000</td>\n",
       "      <td>Departamento</td>\n",
       "    </tr>\n",
       "    <tr>\n",
       "      <th>2</th>\n",
       "      <td>Durango</td>\n",
       "      <td>Zona Norte</td>\n",
       "      <td>Tigre</td>\n",
       "      <td>2</td>\n",
       "      <td>1</td>\n",
       "      <td>2.0</td>\n",
       "      <td>99.0</td>\n",
       "      <td>84.0</td>\n",
       "      <td>2150000</td>\n",
       "      <td>Departamento</td>\n",
       "    </tr>\n",
       "    <tr>\n",
       "      <th>3</th>\n",
       "      <td>Durango</td>\n",
       "      <td>Zona Norte</td>\n",
       "      <td>Tigre</td>\n",
       "      <td>2</td>\n",
       "      <td>1</td>\n",
       "      <td>1.0</td>\n",
       "      <td>50.0</td>\n",
       "      <td>50.0</td>\n",
       "      <td>1090000</td>\n",
       "      <td>Departamento</td>\n",
       "    </tr>\n",
       "    <tr>\n",
       "      <th>4</th>\n",
       "      <td>Durango</td>\n",
       "      <td>Zona Norte</td>\n",
       "      <td>Tigre</td>\n",
       "      <td>2</td>\n",
       "      <td>1</td>\n",
       "      <td>1.0</td>\n",
       "      <td>53.0</td>\n",
       "      <td>42.0</td>\n",
       "      <td>1450000</td>\n",
       "      <td>Departamento</td>\n",
       "    </tr>\n",
       "  </tbody>\n",
       "</table>\n",
       "</div>"
      ],
      "text/plain": [
       "    Estado      Región     l3  habitaciones  dormitorios  baños  \\\n",
       "0  Durango  Zona Norte  Pilar             1            1    1.0   \n",
       "1  Durango  Zona Norte  Pilar             1            1    1.0   \n",
       "2  Durango  Zona Norte  Tigre             2            1    2.0   \n",
       "3  Durango  Zona Norte  Tigre             2            1    1.0   \n",
       "4  Durango  Zona Norte  Tigre             2            1    1.0   \n",
       "\n",
       "   superficeTerreno  superficieConstruido   precio tipoPropiedad  \n",
       "0              50.0                  35.0   450000  Departamento  \n",
       "1              32.0                  32.0   350000  Departamento  \n",
       "2              99.0                  84.0  2150000  Departamento  \n",
       "3              50.0                  50.0  1090000  Departamento  \n",
       "4              53.0                  42.0  1450000  Departamento  "
      ]
     },
     "execution_count": 307,
     "metadata": {},
     "output_type": "execute_result"
    }
   ],
   "source": [
    "df = pd.read_csv(\"Datos_Propiedades.csv\")\n",
    "df.head()"
   ]
  },
  {
   "cell_type": "code",
   "execution_count": 308,
   "id": "30b0fe60-e734-4899-8e51-716523ae6cc2",
   "metadata": {},
   "outputs": [
    {
     "name": "stdout",
     "output_type": "stream",
     "text": [
      "Valores únicos en la columna Region:\n",
      "Zona Norte\n",
      "Zona Oriente\n",
      "Zona Sur\n",
      "Zona Poniente\n"
     ]
    }
   ],
   "source": [
    "valores_unicos_zona = df[\"Región\"].unique()\n",
    "\n",
    "# Imprimir los valores únicos\n",
    "print(\"Valores únicos en la columna Region:\")\n",
    "for valor in valores_unicos_zona:\n",
    "    print(valor)"
   ]
  },
  {
   "cell_type": "code",
   "execution_count": 309,
   "id": "9ad7058c-901b-4345-a380-b63c9160fa9f",
   "metadata": {},
   "outputs": [
    {
     "data": {
      "text/html": [
       "<div>\n",
       "<style scoped>\n",
       "    .dataframe tbody tr th:only-of-type {\n",
       "        vertical-align: middle;\n",
       "    }\n",
       "\n",
       "    .dataframe tbody tr th {\n",
       "        vertical-align: top;\n",
       "    }\n",
       "\n",
       "    .dataframe thead th {\n",
       "        text-align: right;\n",
       "    }\n",
       "</style>\n",
       "<table border=\"1\" class=\"dataframe\">\n",
       "  <thead>\n",
       "    <tr style=\"text-align: right;\">\n",
       "      <th></th>\n",
       "      <th>Estado</th>\n",
       "      <th>Región</th>\n",
       "      <th>l3</th>\n",
       "      <th>habitaciones</th>\n",
       "      <th>dormitorios</th>\n",
       "      <th>baños</th>\n",
       "      <th>superficeTerreno</th>\n",
       "      <th>superficieConstruido</th>\n",
       "      <th>precio</th>\n",
       "      <th>tipoPropiedad</th>\n",
       "      <th>region_numero</th>\n",
       "    </tr>\n",
       "  </thead>\n",
       "  <tbody>\n",
       "    <tr>\n",
       "      <th>0</th>\n",
       "      <td>Durango</td>\n",
       "      <td>Zona Norte</td>\n",
       "      <td>Pilar</td>\n",
       "      <td>1</td>\n",
       "      <td>1</td>\n",
       "      <td>1.0</td>\n",
       "      <td>50.0</td>\n",
       "      <td>35.0</td>\n",
       "      <td>450000</td>\n",
       "      <td>Departamento</td>\n",
       "      <td>1</td>\n",
       "    </tr>\n",
       "    <tr>\n",
       "      <th>1</th>\n",
       "      <td>Durango</td>\n",
       "      <td>Zona Norte</td>\n",
       "      <td>Pilar</td>\n",
       "      <td>1</td>\n",
       "      <td>1</td>\n",
       "      <td>1.0</td>\n",
       "      <td>32.0</td>\n",
       "      <td>32.0</td>\n",
       "      <td>350000</td>\n",
       "      <td>Departamento</td>\n",
       "      <td>1</td>\n",
       "    </tr>\n",
       "    <tr>\n",
       "      <th>2</th>\n",
       "      <td>Durango</td>\n",
       "      <td>Zona Norte</td>\n",
       "      <td>Tigre</td>\n",
       "      <td>2</td>\n",
       "      <td>1</td>\n",
       "      <td>2.0</td>\n",
       "      <td>99.0</td>\n",
       "      <td>84.0</td>\n",
       "      <td>2150000</td>\n",
       "      <td>Departamento</td>\n",
       "      <td>1</td>\n",
       "    </tr>\n",
       "    <tr>\n",
       "      <th>3</th>\n",
       "      <td>Durango</td>\n",
       "      <td>Zona Norte</td>\n",
       "      <td>Tigre</td>\n",
       "      <td>2</td>\n",
       "      <td>1</td>\n",
       "      <td>1.0</td>\n",
       "      <td>50.0</td>\n",
       "      <td>50.0</td>\n",
       "      <td>1090000</td>\n",
       "      <td>Departamento</td>\n",
       "      <td>1</td>\n",
       "    </tr>\n",
       "    <tr>\n",
       "      <th>4</th>\n",
       "      <td>Durango</td>\n",
       "      <td>Zona Norte</td>\n",
       "      <td>Tigre</td>\n",
       "      <td>2</td>\n",
       "      <td>1</td>\n",
       "      <td>1.0</td>\n",
       "      <td>53.0</td>\n",
       "      <td>42.0</td>\n",
       "      <td>1450000</td>\n",
       "      <td>Departamento</td>\n",
       "      <td>1</td>\n",
       "    </tr>\n",
       "  </tbody>\n",
       "</table>\n",
       "</div>"
      ],
      "text/plain": [
       "    Estado      Región     l3  habitaciones  dormitorios  baños  \\\n",
       "0  Durango  Zona Norte  Pilar             1            1    1.0   \n",
       "1  Durango  Zona Norte  Pilar             1            1    1.0   \n",
       "2  Durango  Zona Norte  Tigre             2            1    2.0   \n",
       "3  Durango  Zona Norte  Tigre             2            1    1.0   \n",
       "4  Durango  Zona Norte  Tigre             2            1    1.0   \n",
       "\n",
       "   superficeTerreno  superficieConstruido   precio tipoPropiedad  \\\n",
       "0              50.0                  35.0   450000  Departamento   \n",
       "1              32.0                  32.0   350000  Departamento   \n",
       "2              99.0                  84.0  2150000  Departamento   \n",
       "3              50.0                  50.0  1090000  Departamento   \n",
       "4              53.0                  42.0  1450000  Departamento   \n",
       "\n",
       "   region_numero  \n",
       "0              1  \n",
       "1              1  \n",
       "2              1  \n",
       "3              1  \n",
       "4              1  "
      ]
     },
     "execution_count": 309,
     "metadata": {},
     "output_type": "execute_result"
    }
   ],
   "source": [
    "# creamos diccionario que mapea cada región a un número\n",
    "mapeo_regiones = {\n",
    "    'Zona Norte': 1,\n",
    "    'Zona Oriente': 3,\n",
    "    'Zona Sur': 2,\n",
    "    'Zona Poniente': 4\n",
    "}\n",
    "\n",
    "# hacemos una nueva columna en el DataFrame utilizando el método map() con el diccionario de mapeo\n",
    "df['region_numero'] = df['Región'].map(mapeo_regiones)\n",
    "\n",
    "df.head()\n"
   ]
  },
  {
   "cell_type": "code",
   "execution_count": 310,
   "id": "d8529541-a96a-4f9d-9a74-4271d01527d6",
   "metadata": {},
   "outputs": [
    {
     "name": "stdout",
     "output_type": "stream",
     "text": [
      "Valores únicos en la columna tipoPropiedad:\n",
      "Departamento\n",
      "Casa\n",
      "PH\n",
      "Lote\n",
      "Casa de campo\n",
      "Otro\n",
      "Local comercial\n",
      "Oficina\n",
      "Depasito\n",
      "Cochera\n"
     ]
    }
   ],
   "source": [
    "valores_unicos_tipo_propiedad = df[\"tipoPropiedad\"].unique()\n",
    "\n",
    "print(\"Valores únicos en la columna tipoPropiedad:\")\n",
    "for valor in valores_unicos_tipo_propiedad:\n",
    "    print(valor)\n",
    "\n",
    "\n"
   ]
  },
  {
   "cell_type": "code",
   "execution_count": 311,
   "id": "880464ba-d281-45c1-8ccc-616218791fae",
   "metadata": {},
   "outputs": [
    {
     "data": {
      "text/html": [
       "<div>\n",
       "<style scoped>\n",
       "    .dataframe tbody tr th:only-of-type {\n",
       "        vertical-align: middle;\n",
       "    }\n",
       "\n",
       "    .dataframe tbody tr th {\n",
       "        vertical-align: top;\n",
       "    }\n",
       "\n",
       "    .dataframe thead th {\n",
       "        text-align: right;\n",
       "    }\n",
       "</style>\n",
       "<table border=\"1\" class=\"dataframe\">\n",
       "  <thead>\n",
       "    <tr style=\"text-align: right;\">\n",
       "      <th></th>\n",
       "      <th>Estado</th>\n",
       "      <th>Región</th>\n",
       "      <th>l3</th>\n",
       "      <th>habitaciones</th>\n",
       "      <th>dormitorios</th>\n",
       "      <th>baños</th>\n",
       "      <th>superficeTerreno</th>\n",
       "      <th>superficieConstruido</th>\n",
       "      <th>precio</th>\n",
       "      <th>tipoPropiedad</th>\n",
       "      <th>region_numero</th>\n",
       "      <th>tipoPropiedad_numero</th>\n",
       "    </tr>\n",
       "  </thead>\n",
       "  <tbody>\n",
       "    <tr>\n",
       "      <th>0</th>\n",
       "      <td>Durango</td>\n",
       "      <td>Zona Norte</td>\n",
       "      <td>Pilar</td>\n",
       "      <td>1</td>\n",
       "      <td>1</td>\n",
       "      <td>1.0</td>\n",
       "      <td>50.0</td>\n",
       "      <td>35.0</td>\n",
       "      <td>450000</td>\n",
       "      <td>Departamento</td>\n",
       "      <td>1</td>\n",
       "      <td>1.0</td>\n",
       "    </tr>\n",
       "    <tr>\n",
       "      <th>1</th>\n",
       "      <td>Durango</td>\n",
       "      <td>Zona Norte</td>\n",
       "      <td>Pilar</td>\n",
       "      <td>1</td>\n",
       "      <td>1</td>\n",
       "      <td>1.0</td>\n",
       "      <td>32.0</td>\n",
       "      <td>32.0</td>\n",
       "      <td>350000</td>\n",
       "      <td>Departamento</td>\n",
       "      <td>1</td>\n",
       "      <td>1.0</td>\n",
       "    </tr>\n",
       "    <tr>\n",
       "      <th>2</th>\n",
       "      <td>Durango</td>\n",
       "      <td>Zona Norte</td>\n",
       "      <td>Tigre</td>\n",
       "      <td>2</td>\n",
       "      <td>1</td>\n",
       "      <td>2.0</td>\n",
       "      <td>99.0</td>\n",
       "      <td>84.0</td>\n",
       "      <td>2150000</td>\n",
       "      <td>Departamento</td>\n",
       "      <td>1</td>\n",
       "      <td>1.0</td>\n",
       "    </tr>\n",
       "    <tr>\n",
       "      <th>3</th>\n",
       "      <td>Durango</td>\n",
       "      <td>Zona Norte</td>\n",
       "      <td>Tigre</td>\n",
       "      <td>2</td>\n",
       "      <td>1</td>\n",
       "      <td>1.0</td>\n",
       "      <td>50.0</td>\n",
       "      <td>50.0</td>\n",
       "      <td>1090000</td>\n",
       "      <td>Departamento</td>\n",
       "      <td>1</td>\n",
       "      <td>1.0</td>\n",
       "    </tr>\n",
       "    <tr>\n",
       "      <th>4</th>\n",
       "      <td>Durango</td>\n",
       "      <td>Zona Norte</td>\n",
       "      <td>Tigre</td>\n",
       "      <td>2</td>\n",
       "      <td>1</td>\n",
       "      <td>1.0</td>\n",
       "      <td>53.0</td>\n",
       "      <td>42.0</td>\n",
       "      <td>1450000</td>\n",
       "      <td>Departamento</td>\n",
       "      <td>1</td>\n",
       "      <td>1.0</td>\n",
       "    </tr>\n",
       "    <tr>\n",
       "      <th>...</th>\n",
       "      <td>...</td>\n",
       "      <td>...</td>\n",
       "      <td>...</td>\n",
       "      <td>...</td>\n",
       "      <td>...</td>\n",
       "      <td>...</td>\n",
       "      <td>...</td>\n",
       "      <td>...</td>\n",
       "      <td>...</td>\n",
       "      <td>...</td>\n",
       "      <td>...</td>\n",
       "      <td>...</td>\n",
       "    </tr>\n",
       "    <tr>\n",
       "      <th>70</th>\n",
       "      <td>Durango</td>\n",
       "      <td>Zona Norte</td>\n",
       "      <td>San Miguel</td>\n",
       "      <td>6</td>\n",
       "      <td>5</td>\n",
       "      <td>4.0</td>\n",
       "      <td>1914.0</td>\n",
       "      <td>445.0</td>\n",
       "      <td>9000000</td>\n",
       "      <td>Casa</td>\n",
       "      <td>1</td>\n",
       "      <td>2.0</td>\n",
       "    </tr>\n",
       "    <tr>\n",
       "      <th>71</th>\n",
       "      <td>Durango</td>\n",
       "      <td>Zona Norte</td>\n",
       "      <td>Pilar</td>\n",
       "      <td>5</td>\n",
       "      <td>4</td>\n",
       "      <td>4.0</td>\n",
       "      <td>880.0</td>\n",
       "      <td>350.0</td>\n",
       "      <td>4950000</td>\n",
       "      <td>Casa</td>\n",
       "      <td>1</td>\n",
       "      <td>2.0</td>\n",
       "    </tr>\n",
       "    <tr>\n",
       "      <th>72</th>\n",
       "      <td>Durango</td>\n",
       "      <td>Zona Norte</td>\n",
       "      <td>San Marcos</td>\n",
       "      <td>2</td>\n",
       "      <td>2</td>\n",
       "      <td>1.0</td>\n",
       "      <td>225.0</td>\n",
       "      <td>115.0</td>\n",
       "      <td>1800000</td>\n",
       "      <td>Casa</td>\n",
       "      <td>1</td>\n",
       "      <td>2.0</td>\n",
       "    </tr>\n",
       "    <tr>\n",
       "      <th>73</th>\n",
       "      <td>Durango</td>\n",
       "      <td>Zona Norte</td>\n",
       "      <td>San Marcos</td>\n",
       "      <td>8</td>\n",
       "      <td>6</td>\n",
       "      <td>2.0</td>\n",
       "      <td>216.0</td>\n",
       "      <td>170.0</td>\n",
       "      <td>2600000</td>\n",
       "      <td>PH</td>\n",
       "      <td>1</td>\n",
       "      <td>3.0</td>\n",
       "    </tr>\n",
       "    <tr>\n",
       "      <th>74</th>\n",
       "      <td>Durango</td>\n",
       "      <td>Zona Norte</td>\n",
       "      <td>San Miguel</td>\n",
       "      <td>1</td>\n",
       "      <td>1</td>\n",
       "      <td>2.0</td>\n",
       "      <td>770.0</td>\n",
       "      <td>770.0</td>\n",
       "      <td>3490000</td>\n",
       "      <td>Casa</td>\n",
       "      <td>1</td>\n",
       "      <td>2.0</td>\n",
       "    </tr>\n",
       "  </tbody>\n",
       "</table>\n",
       "<p>75 rows × 12 columns</p>\n",
       "</div>"
      ],
      "text/plain": [
       "     Estado      Región          l3  habitaciones  dormitorios  baños  \\\n",
       "0   Durango  Zona Norte       Pilar             1            1    1.0   \n",
       "1   Durango  Zona Norte       Pilar             1            1    1.0   \n",
       "2   Durango  Zona Norte       Tigre             2            1    2.0   \n",
       "3   Durango  Zona Norte       Tigre             2            1    1.0   \n",
       "4   Durango  Zona Norte       Tigre             2            1    1.0   \n",
       "..      ...         ...         ...           ...          ...    ...   \n",
       "70  Durango  Zona Norte  San Miguel             6            5    4.0   \n",
       "71  Durango  Zona Norte       Pilar             5            4    4.0   \n",
       "72  Durango  Zona Norte  San Marcos             2            2    1.0   \n",
       "73  Durango  Zona Norte  San Marcos             8            6    2.0   \n",
       "74  Durango  Zona Norte  San Miguel             1            1    2.0   \n",
       "\n",
       "    superficeTerreno  superficieConstruido   precio tipoPropiedad  \\\n",
       "0               50.0                  35.0   450000  Departamento   \n",
       "1               32.0                  32.0   350000  Departamento   \n",
       "2               99.0                  84.0  2150000  Departamento   \n",
       "3               50.0                  50.0  1090000  Departamento   \n",
       "4               53.0                  42.0  1450000  Departamento   \n",
       "..               ...                   ...      ...           ...   \n",
       "70            1914.0                 445.0  9000000          Casa   \n",
       "71             880.0                 350.0  4950000          Casa   \n",
       "72             225.0                 115.0  1800000          Casa   \n",
       "73             216.0                 170.0  2600000            PH   \n",
       "74             770.0                 770.0  3490000          Casa   \n",
       "\n",
       "    region_numero  tipoPropiedad_numero  \n",
       "0               1                   1.0  \n",
       "1               1                   1.0  \n",
       "2               1                   1.0  \n",
       "3               1                   1.0  \n",
       "4               1                   1.0  \n",
       "..            ...                   ...  \n",
       "70              1                   2.0  \n",
       "71              1                   2.0  \n",
       "72              1                   2.0  \n",
       "73              1                   3.0  \n",
       "74              1                   2.0  \n",
       "\n",
       "[75 rows x 12 columns]"
      ]
     },
     "execution_count": 311,
     "metadata": {},
     "output_type": "execute_result"
    }
   ],
   "source": [
    "mapeo_tipos_propiedad = {\n",
    "    'Departamento': 1,\n",
    "    'Casa': 2,\n",
    "    'PH': 3,\n",
    "    'Lote': 4,\n",
    "    'Casa de campo': 5,\n",
    "    'Otro': 6,\n",
    "    'Local comercial': 7,\n",
    "    'Oficina': 8,\n",
    "    'Deposito': 9,\n",
    "    'Cochera': 10\n",
    "}\n",
    "\n",
    "df['tipoPropiedad_numero'] = df['tipoPropiedad'].map(mapeo_tipos_propiedad)\n",
    "\n",
    "df.head(75)\n",
    "\n"
   ]
  },
  {
   "cell_type": "code",
   "execution_count": 312,
   "id": "81166058-8d52-4b74-a28d-e720308aec76",
   "metadata": {},
   "outputs": [
    {
     "name": "stdout",
     "output_type": "stream",
     "text": [
      "<class 'pandas.core.frame.DataFrame'>\n",
      "RangeIndex: 146660 entries, 0 to 146659\n",
      "Data columns (total 12 columns):\n",
      " #   Column                Non-Null Count   Dtype  \n",
      "---  ------                --------------   -----  \n",
      " 0   Estado                146660 non-null  object \n",
      " 1   Región                146660 non-null  object \n",
      " 2   l3                    146660 non-null  object \n",
      " 3   habitaciones          146660 non-null  int64  \n",
      " 4   dormitorios           146660 non-null  int64  \n",
      " 5   baños                 140703 non-null  float64\n",
      " 6   superficeTerreno      126133 non-null  float64\n",
      " 7   superficieConstruido  125046 non-null  float64\n",
      " 8   precio                146660 non-null  int64  \n",
      " 9   tipoPropiedad         146660 non-null  object \n",
      " 10  region_numero         146660 non-null  int64  \n",
      " 11  tipoPropiedad_numero  146395 non-null  float64\n",
      "dtypes: float64(4), int64(4), object(4)\n",
      "memory usage: 13.4+ MB\n"
     ]
    }
   ],
   "source": [
    "df.info()"
   ]
  },
  {
   "cell_type": "code",
   "execution_count": 313,
   "id": "5810d67a-8622-4617-8ed4-6932599b65a5",
   "metadata": {},
   "outputs": [
    {
     "data": {
      "text/plain": [
       "tipoPropiedad_numero\n",
       "False    146395\n",
       "True        265\n",
       "Name: count, dtype: int64"
      ]
     },
     "execution_count": 313,
     "metadata": {},
     "output_type": "execute_result"
    }
   ],
   "source": [
    "df[\"tipoPropiedad_numero\"].isnull().value_counts()"
   ]
  },
  {
   "cell_type": "code",
   "execution_count": 314,
   "id": "6082d7b2-dce4-4d15-a9c5-2f0066032b32",
   "metadata": {},
   "outputs": [
    {
     "data": {
      "text/plain": [
       "tipoPropiedad_numero\n",
       "False    146660\n",
       "Name: count, dtype: int64"
      ]
     },
     "execution_count": 314,
     "metadata": {},
     "output_type": "execute_result"
    }
   ],
   "source": [
    "TP_n = 6\n",
    "df[\"tipoPropiedad_numero\"].replace(np.nan,TP_n, inplace = True)\n",
    "df[\"tipoPropiedad_numero\"].isnull().value_counts()"
   ]
  },
  {
   "cell_type": "markdown",
   "id": "14e51b89-3444-4d8d-a422-c56203544eb7",
   "metadata": {},
   "source": [
    "### Registramos si tiene valores nulos \n",
    "###### los siguientes fueron los que nos aparecieron con valores nulos y procedemos a promediarlos y a rellenar los registros vacios\n"
   ]
  },
  {
   "cell_type": "code",
   "execution_count": 315,
   "id": "6595f28c-1f6c-43b5-b4af-4eb4367ee8f7",
   "metadata": {},
   "outputs": [
    {
     "data": {
      "text/plain": [
       "baños\n",
       "False    140703\n",
       "True       5957\n",
       "Name: count, dtype: int64"
      ]
     },
     "execution_count": 315,
     "metadata": {},
     "output_type": "execute_result"
    }
   ],
   "source": [
    "df[\"baños\"].isnull().value_counts()"
   ]
  },
  {
   "cell_type": "code",
   "execution_count": 316,
   "id": "b744896e-ac0b-4e8b-81e5-b2842811baa6",
   "metadata": {},
   "outputs": [
    {
     "data": {
      "text/plain": [
       "superficeTerreno\n",
       "False    126133\n",
       "True      20527\n",
       "Name: count, dtype: int64"
      ]
     },
     "execution_count": 316,
     "metadata": {},
     "output_type": "execute_result"
    }
   ],
   "source": [
    "df[\"superficeTerreno\"].isnull().value_counts()"
   ]
  },
  {
   "cell_type": "code",
   "execution_count": 317,
   "id": "495eb141-f413-4604-b597-889f7d134943",
   "metadata": {},
   "outputs": [
    {
     "data": {
      "text/plain": [
       "superficieConstruido\n",
       "False    125046\n",
       "True      21614\n",
       "Name: count, dtype: int64"
      ]
     },
     "execution_count": 317,
     "metadata": {},
     "output_type": "execute_result"
    }
   ],
   "source": [
    "df[\"superficieConstruido\"].isnull().value_counts()"
   ]
  },
  {
   "cell_type": "code",
   "execution_count": 318,
   "id": "93408b69-eacd-423b-bc2d-20f6445422d1",
   "metadata": {},
   "outputs": [
    {
     "name": "stdout",
     "output_type": "stream",
     "text": [
      "1.599994314264799\n"
     ]
    }
   ],
   "source": [
    "promedio_baños = df[\"baños\"].astype(\"float\").mean(axis=0)\n",
    "print(promedio_baños)"
   ]
  },
  {
   "cell_type": "code",
   "execution_count": 319,
   "id": "54739aaa-352c-4079-a181-57248b8a9d77",
   "metadata": {},
   "outputs": [
    {
     "name": "stdout",
     "output_type": "stream",
     "text": [
      "2.0\n"
     ]
    }
   ],
   "source": [
    "baños_redondeados = round(promedio_baños, 0)\n",
    "print(baños_redondeados)"
   ]
  },
  {
   "cell_type": "code",
   "execution_count": 320,
   "id": "e3485b04-361c-4569-8ff8-3b4dab1129c5",
   "metadata": {},
   "outputs": [
    {
     "data": {
      "text/plain": [
       "baños\n",
       "False    146660\n",
       "Name: count, dtype: int64"
      ]
     },
     "execution_count": 320,
     "metadata": {},
     "output_type": "execute_result"
    }
   ],
   "source": [
    "df[\"baños\"].replace(np.nan,baños_redondeados, inplace = True)\n",
    "df[\"baños\"].isnull().value_counts()"
   ]
  },
  {
   "cell_type": "code",
   "execution_count": 321,
   "id": "d1c24137-f26e-4a03-bb12-f55116345167",
   "metadata": {},
   "outputs": [
    {
     "name": "stdout",
     "output_type": "stream",
     "text": [
      "112.81801097196232\n"
     ]
    }
   ],
   "source": [
    "promedio_superficieConstruido = df[\"superficieConstruido\"].astype(\"float\").mean(axis=0)\n",
    "print(promedio_superficieConstruido)"
   ]
  },
  {
   "cell_type": "code",
   "execution_count": 322,
   "id": "15c3d637-299d-484a-9739-ad07a37dedb1",
   "metadata": {},
   "outputs": [
    {
     "name": "stdout",
     "output_type": "stream",
     "text": [
      "113.0\n"
     ]
    }
   ],
   "source": [
    "promedio_superficieConstruido_redondeados = round(promedio_superficieConstruido, 0)\n",
    "print(promedio_superficieConstruido_redondeados)"
   ]
  },
  {
   "cell_type": "code",
   "execution_count": 323,
   "id": "ca887b6f-b065-435f-a58a-a3e4cf880464",
   "metadata": {},
   "outputs": [
    {
     "data": {
      "text/plain": [
       "superficieConstruido\n",
       "False    146660\n",
       "Name: count, dtype: int64"
      ]
     },
     "execution_count": 323,
     "metadata": {},
     "output_type": "execute_result"
    }
   ],
   "source": [
    "df[\"superficieConstruido\"].replace(np.nan,promedio_superficieConstruido_redondeados, inplace = True)\n",
    "df[\"superficieConstruido\"].isnull().value_counts()"
   ]
  },
  {
   "cell_type": "code",
   "execution_count": 324,
   "id": "9884c330-1448-401c-91e0-e78a304f5768",
   "metadata": {},
   "outputs": [
    {
     "name": "stdout",
     "output_type": "stream",
     "text": [
      "216.872888141882\n"
     ]
    }
   ],
   "source": [
    "promedio_superficeTerreno= df[\"superficeTerreno\"].astype(\"float\").mean(axis=0)\n",
    "print(promedio_superficeTerreno)"
   ]
  },
  {
   "cell_type": "code",
   "execution_count": 325,
   "id": "006e0580-ef9c-4fa4-b158-76631780c58d",
   "metadata": {},
   "outputs": [
    {
     "name": "stdout",
     "output_type": "stream",
     "text": [
      "217.0\n"
     ]
    }
   ],
   "source": [
    "promedio_superficeTerreno_redondeado = round(promedio_superficeTerreno, 0)\n",
    "print(promedio_superficeTerreno_redondeado)"
   ]
  },
  {
   "cell_type": "code",
   "execution_count": 326,
   "id": "c124f8ff-45c2-4e37-81dd-8f7f7f88b24e",
   "metadata": {},
   "outputs": [
    {
     "data": {
      "text/plain": [
       "superficeTerreno\n",
       "False    146660\n",
       "Name: count, dtype: int64"
      ]
     },
     "execution_count": 326,
     "metadata": {},
     "output_type": "execute_result"
    }
   ],
   "source": [
    "df[\"superficeTerreno\"].replace(np.nan,promedio_superficeTerreno_redondeado, inplace = True)\n",
    "df[\"superficeTerreno\"].isnull().value_counts()"
   ]
  },
  {
   "cell_type": "code",
   "execution_count": 327,
   "id": "d51b5344-5928-403e-bc4e-4f669dcea799",
   "metadata": {},
   "outputs": [],
   "source": [
    "from sklearn.model_selection import train_test_split\n",
    "\n",
    "df_train, df_test = train_test_split(df,random_state=0)"
   ]
  },
  {
   "cell_type": "code",
   "execution_count": 328,
   "id": "960ba405-7fc6-431e-9f01-e535d95723e2",
   "metadata": {},
   "outputs": [
    {
     "data": {
      "text/html": [
       "<div>\n",
       "<style scoped>\n",
       "    .dataframe tbody tr th:only-of-type {\n",
       "        vertical-align: middle;\n",
       "    }\n",
       "\n",
       "    .dataframe tbody tr th {\n",
       "        vertical-align: top;\n",
       "    }\n",
       "\n",
       "    .dataframe thead th {\n",
       "        text-align: right;\n",
       "    }\n",
       "</style>\n",
       "<table border=\"1\" class=\"dataframe\">\n",
       "  <thead>\n",
       "    <tr style=\"text-align: right;\">\n",
       "      <th></th>\n",
       "      <th>Estado</th>\n",
       "      <th>Región</th>\n",
       "      <th>l3</th>\n",
       "      <th>habitaciones</th>\n",
       "      <th>dormitorios</th>\n",
       "      <th>baños</th>\n",
       "      <th>superficeTerreno</th>\n",
       "      <th>superficieConstruido</th>\n",
       "      <th>precio</th>\n",
       "      <th>tipoPropiedad</th>\n",
       "      <th>region_numero</th>\n",
       "      <th>tipoPropiedad_numero</th>\n",
       "    </tr>\n",
       "  </thead>\n",
       "  <tbody>\n",
       "    <tr>\n",
       "      <th>116391</th>\n",
       "      <td>Durango</td>\n",
       "      <td>Zona Poniente</td>\n",
       "      <td>Palermo</td>\n",
       "      <td>3</td>\n",
       "      <td>2</td>\n",
       "      <td>1.0</td>\n",
       "      <td>72.0</td>\n",
       "      <td>64.0</td>\n",
       "      <td>2320000</td>\n",
       "      <td>Departamento</td>\n",
       "      <td>4</td>\n",
       "      <td>1.0</td>\n",
       "    </tr>\n",
       "    <tr>\n",
       "      <th>78043</th>\n",
       "      <td>Durango</td>\n",
       "      <td>Zona Poniente</td>\n",
       "      <td>Palermo</td>\n",
       "      <td>3</td>\n",
       "      <td>2</td>\n",
       "      <td>1.0</td>\n",
       "      <td>72.0</td>\n",
       "      <td>64.0</td>\n",
       "      <td>2320000</td>\n",
       "      <td>Departamento</td>\n",
       "      <td>4</td>\n",
       "      <td>1.0</td>\n",
       "    </tr>\n",
       "    <tr>\n",
       "      <th>145127</th>\n",
       "      <td>Durango</td>\n",
       "      <td>Zona Poniente</td>\n",
       "      <td>Belgrano</td>\n",
       "      <td>4</td>\n",
       "      <td>3</td>\n",
       "      <td>3.0</td>\n",
       "      <td>157.0</td>\n",
       "      <td>130.0</td>\n",
       "      <td>4980000</td>\n",
       "      <td>Departamento</td>\n",
       "      <td>4</td>\n",
       "      <td>1.0</td>\n",
       "    </tr>\n",
       "    <tr>\n",
       "      <th>107171</th>\n",
       "      <td>Durango</td>\n",
       "      <td>Zona Poniente</td>\n",
       "      <td>Belgrano</td>\n",
       "      <td>4</td>\n",
       "      <td>2</td>\n",
       "      <td>1.0</td>\n",
       "      <td>116.0</td>\n",
       "      <td>114.0</td>\n",
       "      <td>2950000</td>\n",
       "      <td>Departamento</td>\n",
       "      <td>4</td>\n",
       "      <td>1.0</td>\n",
       "    </tr>\n",
       "    <tr>\n",
       "      <th>121312</th>\n",
       "      <td>Durango</td>\n",
       "      <td>Zona Poniente</td>\n",
       "      <td>Balvanera</td>\n",
       "      <td>1</td>\n",
       "      <td>0</td>\n",
       "      <td>2.0</td>\n",
       "      <td>217.0</td>\n",
       "      <td>113.0</td>\n",
       "      <td>3300000</td>\n",
       "      <td>Local comercial</td>\n",
       "      <td>4</td>\n",
       "      <td>7.0</td>\n",
       "    </tr>\n",
       "    <tr>\n",
       "      <th>...</th>\n",
       "      <td>...</td>\n",
       "      <td>...</td>\n",
       "      <td>...</td>\n",
       "      <td>...</td>\n",
       "      <td>...</td>\n",
       "      <td>...</td>\n",
       "      <td>...</td>\n",
       "      <td>...</td>\n",
       "      <td>...</td>\n",
       "      <td>...</td>\n",
       "      <td>...</td>\n",
       "      <td>...</td>\n",
       "    </tr>\n",
       "    <tr>\n",
       "      <th>41993</th>\n",
       "      <td>Durango</td>\n",
       "      <td>Zona Sur</td>\n",
       "      <td>Lomas de Zamora</td>\n",
       "      <td>1</td>\n",
       "      <td>0</td>\n",
       "      <td>2.0</td>\n",
       "      <td>217.0</td>\n",
       "      <td>113.0</td>\n",
       "      <td>4000000</td>\n",
       "      <td>Local comercial</td>\n",
       "      <td>2</td>\n",
       "      <td>7.0</td>\n",
       "    </tr>\n",
       "    <tr>\n",
       "      <th>97639</th>\n",
       "      <td>Durango</td>\n",
       "      <td>Zona Poniente</td>\n",
       "      <td>Villa Crespo</td>\n",
       "      <td>3</td>\n",
       "      <td>2</td>\n",
       "      <td>2.0</td>\n",
       "      <td>87.0</td>\n",
       "      <td>77.0</td>\n",
       "      <td>1730000</td>\n",
       "      <td>Departamento</td>\n",
       "      <td>4</td>\n",
       "      <td>1.0</td>\n",
       "    </tr>\n",
       "    <tr>\n",
       "      <th>95939</th>\n",
       "      <td>Durango</td>\n",
       "      <td>Zona Poniente</td>\n",
       "      <td>Villa Crespo</td>\n",
       "      <td>4</td>\n",
       "      <td>3</td>\n",
       "      <td>1.0</td>\n",
       "      <td>101.0</td>\n",
       "      <td>101.0</td>\n",
       "      <td>2200000</td>\n",
       "      <td>PH</td>\n",
       "      <td>4</td>\n",
       "      <td>3.0</td>\n",
       "    </tr>\n",
       "    <tr>\n",
       "      <th>117952</th>\n",
       "      <td>Durango</td>\n",
       "      <td>Zona Poniente</td>\n",
       "      <td>Barrio Norte</td>\n",
       "      <td>5</td>\n",
       "      <td>3</td>\n",
       "      <td>2.0</td>\n",
       "      <td>133.0</td>\n",
       "      <td>120.0</td>\n",
       "      <td>3900000</td>\n",
       "      <td>Departamento</td>\n",
       "      <td>4</td>\n",
       "      <td>1.0</td>\n",
       "    </tr>\n",
       "    <tr>\n",
       "      <th>43567</th>\n",
       "      <td>Durango</td>\n",
       "      <td>Zona Sur</td>\n",
       "      <td>San Vicente</td>\n",
       "      <td>1</td>\n",
       "      <td>1</td>\n",
       "      <td>2.0</td>\n",
       "      <td>2000.0</td>\n",
       "      <td>113.0</td>\n",
       "      <td>190000</td>\n",
       "      <td>Lote</td>\n",
       "      <td>2</td>\n",
       "      <td>4.0</td>\n",
       "    </tr>\n",
       "  </tbody>\n",
       "</table>\n",
       "<p>109995 rows × 12 columns</p>\n",
       "</div>"
      ],
      "text/plain": [
       "         Estado         Región               l3  habitaciones  dormitorios  \\\n",
       "116391  Durango  Zona Poniente          Palermo             3            2   \n",
       "78043   Durango  Zona Poniente          Palermo             3            2   \n",
       "145127  Durango  Zona Poniente         Belgrano             4            3   \n",
       "107171  Durango  Zona Poniente         Belgrano             4            2   \n",
       "121312  Durango  Zona Poniente        Balvanera             1            0   \n",
       "...         ...            ...              ...           ...          ...   \n",
       "41993   Durango       Zona Sur  Lomas de Zamora             1            0   \n",
       "97639   Durango  Zona Poniente     Villa Crespo             3            2   \n",
       "95939   Durango  Zona Poniente     Villa Crespo             4            3   \n",
       "117952  Durango  Zona Poniente     Barrio Norte             5            3   \n",
       "43567   Durango       Zona Sur      San Vicente             1            1   \n",
       "\n",
       "        baños  superficeTerreno  superficieConstruido   precio  \\\n",
       "116391    1.0              72.0                  64.0  2320000   \n",
       "78043     1.0              72.0                  64.0  2320000   \n",
       "145127    3.0             157.0                 130.0  4980000   \n",
       "107171    1.0             116.0                 114.0  2950000   \n",
       "121312    2.0             217.0                 113.0  3300000   \n",
       "...       ...               ...                   ...      ...   \n",
       "41993     2.0             217.0                 113.0  4000000   \n",
       "97639     2.0              87.0                  77.0  1730000   \n",
       "95939     1.0             101.0                 101.0  2200000   \n",
       "117952    2.0             133.0                 120.0  3900000   \n",
       "43567     2.0            2000.0                 113.0   190000   \n",
       "\n",
       "          tipoPropiedad  region_numero  tipoPropiedad_numero  \n",
       "116391     Departamento              4                   1.0  \n",
       "78043      Departamento              4                   1.0  \n",
       "145127     Departamento              4                   1.0  \n",
       "107171     Departamento              4                   1.0  \n",
       "121312  Local comercial              4                   7.0  \n",
       "...                 ...            ...                   ...  \n",
       "41993   Local comercial              2                   7.0  \n",
       "97639      Departamento              4                   1.0  \n",
       "95939                PH              4                   3.0  \n",
       "117952     Departamento              4                   1.0  \n",
       "43567              Lote              2                   4.0  \n",
       "\n",
       "[109995 rows x 12 columns]"
      ]
     },
     "execution_count": 328,
     "metadata": {},
     "output_type": "execute_result"
    }
   ],
   "source": [
    "df_train"
   ]
  },
  {
   "cell_type": "code",
   "execution_count": 329,
   "id": "a60e9cab-99f2-4eeb-88ae-2813e92e3703",
   "metadata": {},
   "outputs": [
    {
     "data": {
      "text/html": [
       "<div>\n",
       "<style scoped>\n",
       "    .dataframe tbody tr th:only-of-type {\n",
       "        vertical-align: middle;\n",
       "    }\n",
       "\n",
       "    .dataframe tbody tr th {\n",
       "        vertical-align: top;\n",
       "    }\n",
       "\n",
       "    .dataframe thead th {\n",
       "        text-align: right;\n",
       "    }\n",
       "</style>\n",
       "<table border=\"1\" class=\"dataframe\">\n",
       "  <thead>\n",
       "    <tr style=\"text-align: right;\">\n",
       "      <th></th>\n",
       "      <th>Estado</th>\n",
       "      <th>Región</th>\n",
       "      <th>l3</th>\n",
       "      <th>habitaciones</th>\n",
       "      <th>dormitorios</th>\n",
       "      <th>baños</th>\n",
       "      <th>superficeTerreno</th>\n",
       "      <th>superficieConstruido</th>\n",
       "      <th>precio</th>\n",
       "      <th>tipoPropiedad</th>\n",
       "      <th>region_numero</th>\n",
       "      <th>tipoPropiedad_numero</th>\n",
       "    </tr>\n",
       "  </thead>\n",
       "  <tbody>\n",
       "    <tr>\n",
       "      <th>8215</th>\n",
       "      <td>Durango</td>\n",
       "      <td>Zona Norte</td>\n",
       "      <td>San Marcos</td>\n",
       "      <td>3</td>\n",
       "      <td>2</td>\n",
       "      <td>1.0</td>\n",
       "      <td>54.0</td>\n",
       "      <td>54.0</td>\n",
       "      <td>1100000</td>\n",
       "      <td>Departamento</td>\n",
       "      <td>1</td>\n",
       "      <td>1.0</td>\n",
       "    </tr>\n",
       "    <tr>\n",
       "      <th>58046</th>\n",
       "      <td>Durango</td>\n",
       "      <td>Zona Poniente</td>\n",
       "      <td>Balvanera</td>\n",
       "      <td>3</td>\n",
       "      <td>2</td>\n",
       "      <td>2.0</td>\n",
       "      <td>60.0</td>\n",
       "      <td>55.0</td>\n",
       "      <td>1600000</td>\n",
       "      <td>Departamento</td>\n",
       "      <td>4</td>\n",
       "      <td>1.0</td>\n",
       "    </tr>\n",
       "    <tr>\n",
       "      <th>111001</th>\n",
       "      <td>Durango</td>\n",
       "      <td>Zona Poniente</td>\n",
       "      <td>Belgrano</td>\n",
       "      <td>3</td>\n",
       "      <td>2</td>\n",
       "      <td>1.0</td>\n",
       "      <td>50.0</td>\n",
       "      <td>50.0</td>\n",
       "      <td>1690000</td>\n",
       "      <td>Departamento</td>\n",
       "      <td>4</td>\n",
       "      <td>1.0</td>\n",
       "    </tr>\n",
       "    <tr>\n",
       "      <th>32975</th>\n",
       "      <td>Durango</td>\n",
       "      <td>Zona Oriente</td>\n",
       "      <td>Ituzainga</td>\n",
       "      <td>1</td>\n",
       "      <td>0</td>\n",
       "      <td>2.0</td>\n",
       "      <td>217.0</td>\n",
       "      <td>113.0</td>\n",
       "      <td>1200000</td>\n",
       "      <td>Lote</td>\n",
       "      <td>3</td>\n",
       "      <td>4.0</td>\n",
       "    </tr>\n",
       "    <tr>\n",
       "      <th>40594</th>\n",
       "      <td>Durango</td>\n",
       "      <td>Zona Sur</td>\n",
       "      <td>Lomas de Zamora</td>\n",
       "      <td>6</td>\n",
       "      <td>3</td>\n",
       "      <td>2.0</td>\n",
       "      <td>266.0</td>\n",
       "      <td>170.0</td>\n",
       "      <td>2250000</td>\n",
       "      <td>Casa</td>\n",
       "      <td>2</td>\n",
       "      <td>2.0</td>\n",
       "    </tr>\n",
       "    <tr>\n",
       "      <th>...</th>\n",
       "      <td>...</td>\n",
       "      <td>...</td>\n",
       "      <td>...</td>\n",
       "      <td>...</td>\n",
       "      <td>...</td>\n",
       "      <td>...</td>\n",
       "      <td>...</td>\n",
       "      <td>...</td>\n",
       "      <td>...</td>\n",
       "      <td>...</td>\n",
       "      <td>...</td>\n",
       "      <td>...</td>\n",
       "    </tr>\n",
       "    <tr>\n",
       "      <th>64879</th>\n",
       "      <td>Durango</td>\n",
       "      <td>Zona Poniente</td>\n",
       "      <td>Belgrano</td>\n",
       "      <td>4</td>\n",
       "      <td>3</td>\n",
       "      <td>2.0</td>\n",
       "      <td>118.0</td>\n",
       "      <td>118.0</td>\n",
       "      <td>3890000</td>\n",
       "      <td>Departamento</td>\n",
       "      <td>4</td>\n",
       "      <td>1.0</td>\n",
       "    </tr>\n",
       "    <tr>\n",
       "      <th>140352</th>\n",
       "      <td>Durango</td>\n",
       "      <td>Zona Poniente</td>\n",
       "      <td>Retiro</td>\n",
       "      <td>3</td>\n",
       "      <td>2</td>\n",
       "      <td>1.0</td>\n",
       "      <td>42.0</td>\n",
       "      <td>38.0</td>\n",
       "      <td>880000</td>\n",
       "      <td>Departamento</td>\n",
       "      <td>4</td>\n",
       "      <td>1.0</td>\n",
       "    </tr>\n",
       "    <tr>\n",
       "      <th>132946</th>\n",
       "      <td>Durango</td>\n",
       "      <td>Zona Poniente</td>\n",
       "      <td>Belgrano</td>\n",
       "      <td>3</td>\n",
       "      <td>2</td>\n",
       "      <td>1.0</td>\n",
       "      <td>50.0</td>\n",
       "      <td>50.0</td>\n",
       "      <td>1549000</td>\n",
       "      <td>Departamento</td>\n",
       "      <td>4</td>\n",
       "      <td>1.0</td>\n",
       "    </tr>\n",
       "    <tr>\n",
       "      <th>15251</th>\n",
       "      <td>Durango</td>\n",
       "      <td>Zona Norte</td>\n",
       "      <td>Roma</td>\n",
       "      <td>4</td>\n",
       "      <td>3</td>\n",
       "      <td>2.0</td>\n",
       "      <td>217.0</td>\n",
       "      <td>98.0</td>\n",
       "      <td>2650000</td>\n",
       "      <td>PH</td>\n",
       "      <td>1</td>\n",
       "      <td>3.0</td>\n",
       "    </tr>\n",
       "    <tr>\n",
       "      <th>53557</th>\n",
       "      <td>Durango</td>\n",
       "      <td>Zona Sur</td>\n",
       "      <td>Lomas de Zamora</td>\n",
       "      <td>3</td>\n",
       "      <td>2</td>\n",
       "      <td>2.0</td>\n",
       "      <td>67.0</td>\n",
       "      <td>67.0</td>\n",
       "      <td>1650000</td>\n",
       "      <td>Departamento</td>\n",
       "      <td>2</td>\n",
       "      <td>1.0</td>\n",
       "    </tr>\n",
       "  </tbody>\n",
       "</table>\n",
       "<p>36665 rows × 12 columns</p>\n",
       "</div>"
      ],
      "text/plain": [
       "         Estado         Región               l3  habitaciones  dormitorios  \\\n",
       "8215    Durango     Zona Norte       San Marcos             3            2   \n",
       "58046   Durango  Zona Poniente        Balvanera             3            2   \n",
       "111001  Durango  Zona Poniente         Belgrano             3            2   \n",
       "32975   Durango   Zona Oriente        Ituzainga             1            0   \n",
       "40594   Durango       Zona Sur  Lomas de Zamora             6            3   \n",
       "...         ...            ...              ...           ...          ...   \n",
       "64879   Durango  Zona Poniente         Belgrano             4            3   \n",
       "140352  Durango  Zona Poniente           Retiro             3            2   \n",
       "132946  Durango  Zona Poniente         Belgrano             3            2   \n",
       "15251   Durango     Zona Norte             Roma             4            3   \n",
       "53557   Durango       Zona Sur  Lomas de Zamora             3            2   \n",
       "\n",
       "        baños  superficeTerreno  superficieConstruido   precio tipoPropiedad  \\\n",
       "8215      1.0              54.0                  54.0  1100000  Departamento   \n",
       "58046     2.0              60.0                  55.0  1600000  Departamento   \n",
       "111001    1.0              50.0                  50.0  1690000  Departamento   \n",
       "32975     2.0             217.0                 113.0  1200000          Lote   \n",
       "40594     2.0             266.0                 170.0  2250000          Casa   \n",
       "...       ...               ...                   ...      ...           ...   \n",
       "64879     2.0             118.0                 118.0  3890000  Departamento   \n",
       "140352    1.0              42.0                  38.0   880000  Departamento   \n",
       "132946    1.0              50.0                  50.0  1549000  Departamento   \n",
       "15251     2.0             217.0                  98.0  2650000            PH   \n",
       "53557     2.0              67.0                  67.0  1650000  Departamento   \n",
       "\n",
       "        region_numero  tipoPropiedad_numero  \n",
       "8215                1                   1.0  \n",
       "58046               4                   1.0  \n",
       "111001              4                   1.0  \n",
       "32975               3                   4.0  \n",
       "40594               2                   2.0  \n",
       "...               ...                   ...  \n",
       "64879               4                   1.0  \n",
       "140352              4                   1.0  \n",
       "132946              4                   1.0  \n",
       "15251               1                   3.0  \n",
       "53557               2                   1.0  \n",
       "\n",
       "[36665 rows x 12 columns]"
      ]
     },
     "execution_count": 329,
     "metadata": {},
     "output_type": "execute_result"
    }
   ],
   "source": [
    "df_test"
   ]
  },
  {
   "cell_type": "code",
   "execution_count": 330,
   "id": "16964d41-c16e-44b3-806b-f20d1b74d79a",
   "metadata": {},
   "outputs": [
    {
     "name": "stdout",
     "output_type": "stream",
     "text": [
      "<class 'pandas.core.frame.DataFrame'>\n",
      "RangeIndex: 146660 entries, 0 to 146659\n",
      "Data columns (total 12 columns):\n",
      " #   Column                Non-Null Count   Dtype  \n",
      "---  ------                --------------   -----  \n",
      " 0   Estado                146660 non-null  object \n",
      " 1   Región                146660 non-null  object \n",
      " 2   l3                    146660 non-null  object \n",
      " 3   habitaciones          146660 non-null  int64  \n",
      " 4   dormitorios           146660 non-null  int64  \n",
      " 5   baños                 146660 non-null  float64\n",
      " 6   superficeTerreno      146660 non-null  float64\n",
      " 7   superficieConstruido  146660 non-null  float64\n",
      " 8   precio                146660 non-null  int64  \n",
      " 9   tipoPropiedad         146660 non-null  object \n",
      " 10  region_numero         146660 non-null  int64  \n",
      " 11  tipoPropiedad_numero  146660 non-null  float64\n",
      "dtypes: float64(4), int64(4), object(4)\n",
      "memory usage: 13.4+ MB\n"
     ]
    }
   ],
   "source": [
    "df.info()"
   ]
  },
  {
   "cell_type": "markdown",
   "id": "c65ae11f-75a6-41a1-8194-c3ae0f54068a",
   "metadata": {},
   "source": [
    "### se utilizaran estas variables para ver la correlacion que tiene la cantidad de baños, habitaciones y dormitorios disponibles de una propiedad teniendo en cuenta el precio de estas"
   ]
  },
  {
   "cell_type": "code",
   "execution_count": 331,
   "id": "68a55645-da14-483a-b67a-efc24b446cca",
   "metadata": {},
   "outputs": [
    {
     "data": {
      "text/html": [
       "<div>\n",
       "<style scoped>\n",
       "    .dataframe tbody tr th:only-of-type {\n",
       "        vertical-align: middle;\n",
       "    }\n",
       "\n",
       "    .dataframe tbody tr th {\n",
       "        vertical-align: top;\n",
       "    }\n",
       "\n",
       "    .dataframe thead th {\n",
       "        text-align: right;\n",
       "    }\n",
       "</style>\n",
       "<table border=\"1\" class=\"dataframe\">\n",
       "  <thead>\n",
       "    <tr style=\"text-align: right;\">\n",
       "      <th></th>\n",
       "      <th>superficeTerreno</th>\n",
       "      <th>baños</th>\n",
       "      <th>dormitorios</th>\n",
       "      <th>habitaciones</th>\n",
       "      <th>tipoPropiedad_numero</th>\n",
       "      <th>region_numero</th>\n",
       "    </tr>\n",
       "  </thead>\n",
       "  <tbody>\n",
       "    <tr>\n",
       "      <th>116391</th>\n",
       "      <td>72.0</td>\n",
       "      <td>1.0</td>\n",
       "      <td>2</td>\n",
       "      <td>3</td>\n",
       "      <td>1.0</td>\n",
       "      <td>4</td>\n",
       "    </tr>\n",
       "    <tr>\n",
       "      <th>78043</th>\n",
       "      <td>72.0</td>\n",
       "      <td>1.0</td>\n",
       "      <td>2</td>\n",
       "      <td>3</td>\n",
       "      <td>1.0</td>\n",
       "      <td>4</td>\n",
       "    </tr>\n",
       "    <tr>\n",
       "      <th>145127</th>\n",
       "      <td>157.0</td>\n",
       "      <td>3.0</td>\n",
       "      <td>3</td>\n",
       "      <td>4</td>\n",
       "      <td>1.0</td>\n",
       "      <td>4</td>\n",
       "    </tr>\n",
       "    <tr>\n",
       "      <th>107171</th>\n",
       "      <td>116.0</td>\n",
       "      <td>1.0</td>\n",
       "      <td>2</td>\n",
       "      <td>4</td>\n",
       "      <td>1.0</td>\n",
       "      <td>4</td>\n",
       "    </tr>\n",
       "    <tr>\n",
       "      <th>121312</th>\n",
       "      <td>217.0</td>\n",
       "      <td>2.0</td>\n",
       "      <td>0</td>\n",
       "      <td>1</td>\n",
       "      <td>7.0</td>\n",
       "      <td>4</td>\n",
       "    </tr>\n",
       "    <tr>\n",
       "      <th>...</th>\n",
       "      <td>...</td>\n",
       "      <td>...</td>\n",
       "      <td>...</td>\n",
       "      <td>...</td>\n",
       "      <td>...</td>\n",
       "      <td>...</td>\n",
       "    </tr>\n",
       "    <tr>\n",
       "      <th>41993</th>\n",
       "      <td>217.0</td>\n",
       "      <td>2.0</td>\n",
       "      <td>0</td>\n",
       "      <td>1</td>\n",
       "      <td>7.0</td>\n",
       "      <td>2</td>\n",
       "    </tr>\n",
       "    <tr>\n",
       "      <th>97639</th>\n",
       "      <td>87.0</td>\n",
       "      <td>2.0</td>\n",
       "      <td>2</td>\n",
       "      <td>3</td>\n",
       "      <td>1.0</td>\n",
       "      <td>4</td>\n",
       "    </tr>\n",
       "    <tr>\n",
       "      <th>95939</th>\n",
       "      <td>101.0</td>\n",
       "      <td>1.0</td>\n",
       "      <td>3</td>\n",
       "      <td>4</td>\n",
       "      <td>3.0</td>\n",
       "      <td>4</td>\n",
       "    </tr>\n",
       "    <tr>\n",
       "      <th>117952</th>\n",
       "      <td>133.0</td>\n",
       "      <td>2.0</td>\n",
       "      <td>3</td>\n",
       "      <td>5</td>\n",
       "      <td>1.0</td>\n",
       "      <td>4</td>\n",
       "    </tr>\n",
       "    <tr>\n",
       "      <th>43567</th>\n",
       "      <td>2000.0</td>\n",
       "      <td>2.0</td>\n",
       "      <td>1</td>\n",
       "      <td>1</td>\n",
       "      <td>4.0</td>\n",
       "      <td>2</td>\n",
       "    </tr>\n",
       "  </tbody>\n",
       "</table>\n",
       "<p>109995 rows × 6 columns</p>\n",
       "</div>"
      ],
      "text/plain": [
       "        superficeTerreno  baños  dormitorios  habitaciones  \\\n",
       "116391              72.0    1.0            2             3   \n",
       "78043               72.0    1.0            2             3   \n",
       "145127             157.0    3.0            3             4   \n",
       "107171             116.0    1.0            2             4   \n",
       "121312             217.0    2.0            0             1   \n",
       "...                  ...    ...          ...           ...   \n",
       "41993              217.0    2.0            0             1   \n",
       "97639               87.0    2.0            2             3   \n",
       "95939              101.0    1.0            3             4   \n",
       "117952             133.0    2.0            3             5   \n",
       "43567             2000.0    2.0            1             1   \n",
       "\n",
       "        tipoPropiedad_numero  region_numero  \n",
       "116391                   1.0              4  \n",
       "78043                    1.0              4  \n",
       "145127                   1.0              4  \n",
       "107171                   1.0              4  \n",
       "121312                   7.0              4  \n",
       "...                      ...            ...  \n",
       "41993                    7.0              2  \n",
       "97639                    1.0              4  \n",
       "95939                    3.0              4  \n",
       "117952                   1.0              4  \n",
       "43567                    4.0              2  \n",
       "\n",
       "[109995 rows x 6 columns]"
      ]
     },
     "execution_count": 331,
     "metadata": {},
     "output_type": "execute_result"
    }
   ],
   "source": [
    "X_df_train = df_train[[\"superficeTerreno\",\"baños\",\"dormitorios\",\"habitaciones\",\"tipoPropiedad_numero\",\"region_numero\"]]\n",
    "X_df_train"
   ]
  },
  {
   "cell_type": "code",
   "execution_count": 332,
   "id": "929d4a16-ce48-4c1d-90ea-35dac1028b90",
   "metadata": {},
   "outputs": [
    {
     "data": {
      "text/html": [
       "<div>\n",
       "<style scoped>\n",
       "    .dataframe tbody tr th:only-of-type {\n",
       "        vertical-align: middle;\n",
       "    }\n",
       "\n",
       "    .dataframe tbody tr th {\n",
       "        vertical-align: top;\n",
       "    }\n",
       "\n",
       "    .dataframe thead th {\n",
       "        text-align: right;\n",
       "    }\n",
       "</style>\n",
       "<table border=\"1\" class=\"dataframe\">\n",
       "  <thead>\n",
       "    <tr style=\"text-align: right;\">\n",
       "      <th></th>\n",
       "      <th>precio</th>\n",
       "    </tr>\n",
       "  </thead>\n",
       "  <tbody>\n",
       "    <tr>\n",
       "      <th>116391</th>\n",
       "      <td>2320000</td>\n",
       "    </tr>\n",
       "    <tr>\n",
       "      <th>78043</th>\n",
       "      <td>2320000</td>\n",
       "    </tr>\n",
       "    <tr>\n",
       "      <th>145127</th>\n",
       "      <td>4980000</td>\n",
       "    </tr>\n",
       "    <tr>\n",
       "      <th>107171</th>\n",
       "      <td>2950000</td>\n",
       "    </tr>\n",
       "    <tr>\n",
       "      <th>121312</th>\n",
       "      <td>3300000</td>\n",
       "    </tr>\n",
       "    <tr>\n",
       "      <th>...</th>\n",
       "      <td>...</td>\n",
       "    </tr>\n",
       "    <tr>\n",
       "      <th>41993</th>\n",
       "      <td>4000000</td>\n",
       "    </tr>\n",
       "    <tr>\n",
       "      <th>97639</th>\n",
       "      <td>1730000</td>\n",
       "    </tr>\n",
       "    <tr>\n",
       "      <th>95939</th>\n",
       "      <td>2200000</td>\n",
       "    </tr>\n",
       "    <tr>\n",
       "      <th>117952</th>\n",
       "      <td>3900000</td>\n",
       "    </tr>\n",
       "    <tr>\n",
       "      <th>43567</th>\n",
       "      <td>190000</td>\n",
       "    </tr>\n",
       "  </tbody>\n",
       "</table>\n",
       "<p>109995 rows × 1 columns</p>\n",
       "</div>"
      ],
      "text/plain": [
       "         precio\n",
       "116391  2320000\n",
       "78043   2320000\n",
       "145127  4980000\n",
       "107171  2950000\n",
       "121312  3300000\n",
       "...         ...\n",
       "41993   4000000\n",
       "97639   1730000\n",
       "95939   2200000\n",
       "117952  3900000\n",
       "43567    190000\n",
       "\n",
       "[109995 rows x 1 columns]"
      ]
     },
     "execution_count": 332,
     "metadata": {},
     "output_type": "execute_result"
    }
   ],
   "source": [
    "Y_df_train = df_train[[\"precio\"]]\n",
    "Y_df_train"
   ]
  },
  {
   "cell_type": "code",
   "execution_count": 333,
   "id": "265745e5-c502-4714-920e-1539010543b4",
   "metadata": {},
   "outputs": [
    {
     "data": {
      "text/html": [
       "<style>#sk-container-id-22 {color: black;background-color: white;}#sk-container-id-22 pre{padding: 0;}#sk-container-id-22 div.sk-toggleable {background-color: white;}#sk-container-id-22 label.sk-toggleable__label {cursor: pointer;display: block;width: 100%;margin-bottom: 0;padding: 0.3em;box-sizing: border-box;text-align: center;}#sk-container-id-22 label.sk-toggleable__label-arrow:before {content: \"▸\";float: left;margin-right: 0.25em;color: #696969;}#sk-container-id-22 label.sk-toggleable__label-arrow:hover:before {color: black;}#sk-container-id-22 div.sk-estimator:hover label.sk-toggleable__label-arrow:before {color: black;}#sk-container-id-22 div.sk-toggleable__content {max-height: 0;max-width: 0;overflow: hidden;text-align: left;background-color: #f0f8ff;}#sk-container-id-22 div.sk-toggleable__content pre {margin: 0.2em;color: black;border-radius: 0.25em;background-color: #f0f8ff;}#sk-container-id-22 input.sk-toggleable__control:checked~div.sk-toggleable__content {max-height: 200px;max-width: 100%;overflow: auto;}#sk-container-id-22 input.sk-toggleable__control:checked~label.sk-toggleable__label-arrow:before {content: \"▾\";}#sk-container-id-22 div.sk-estimator input.sk-toggleable__control:checked~label.sk-toggleable__label {background-color: #d4ebff;}#sk-container-id-22 div.sk-label input.sk-toggleable__control:checked~label.sk-toggleable__label {background-color: #d4ebff;}#sk-container-id-22 input.sk-hidden--visually {border: 0;clip: rect(1px 1px 1px 1px);clip: rect(1px, 1px, 1px, 1px);height: 1px;margin: -1px;overflow: hidden;padding: 0;position: absolute;width: 1px;}#sk-container-id-22 div.sk-estimator {font-family: monospace;background-color: #f0f8ff;border: 1px dotted black;border-radius: 0.25em;box-sizing: border-box;margin-bottom: 0.5em;}#sk-container-id-22 div.sk-estimator:hover {background-color: #d4ebff;}#sk-container-id-22 div.sk-parallel-item::after {content: \"\";width: 100%;border-bottom: 1px solid gray;flex-grow: 1;}#sk-container-id-22 div.sk-label:hover label.sk-toggleable__label {background-color: #d4ebff;}#sk-container-id-22 div.sk-serial::before {content: \"\";position: absolute;border-left: 1px solid gray;box-sizing: border-box;top: 0;bottom: 0;left: 50%;z-index: 0;}#sk-container-id-22 div.sk-serial {display: flex;flex-direction: column;align-items: center;background-color: white;padding-right: 0.2em;padding-left: 0.2em;position: relative;}#sk-container-id-22 div.sk-item {position: relative;z-index: 1;}#sk-container-id-22 div.sk-parallel {display: flex;align-items: stretch;justify-content: center;background-color: white;position: relative;}#sk-container-id-22 div.sk-item::before, #sk-container-id-22 div.sk-parallel-item::before {content: \"\";position: absolute;border-left: 1px solid gray;box-sizing: border-box;top: 0;bottom: 0;left: 50%;z-index: -1;}#sk-container-id-22 div.sk-parallel-item {display: flex;flex-direction: column;z-index: 1;position: relative;background-color: white;}#sk-container-id-22 div.sk-parallel-item:first-child::after {align-self: flex-end;width: 50%;}#sk-container-id-22 div.sk-parallel-item:last-child::after {align-self: flex-start;width: 50%;}#sk-container-id-22 div.sk-parallel-item:only-child::after {width: 0;}#sk-container-id-22 div.sk-dashed-wrapped {border: 1px dashed gray;margin: 0 0.4em 0.5em 0.4em;box-sizing: border-box;padding-bottom: 0.4em;background-color: white;}#sk-container-id-22 div.sk-label label {font-family: monospace;font-weight: bold;display: inline-block;line-height: 1.2em;}#sk-container-id-22 div.sk-label-container {text-align: center;}#sk-container-id-22 div.sk-container {/* jupyter's `normalize.less` sets `[hidden] { display: none; }` but bootstrap.min.css set `[hidden] { display: none !important; }` so we also need the `!important` here to be able to override the default hidden behavior on the sphinx rendered scikit-learn.org. See: https://github.com/scikit-learn/scikit-learn/issues/21755 */display: inline-block !important;position: relative;}#sk-container-id-22 div.sk-text-repr-fallback {display: none;}</style><div id=\"sk-container-id-22\" class=\"sk-top-container\"><div class=\"sk-text-repr-fallback\"><pre>LinearRegression()</pre><b>In a Jupyter environment, please rerun this cell to show the HTML representation or trust the notebook. <br />On GitHub, the HTML representation is unable to render, please try loading this page with nbviewer.org.</b></div><div class=\"sk-container\" hidden><div class=\"sk-item\"><div class=\"sk-estimator sk-toggleable\"><input class=\"sk-toggleable__control sk-hidden--visually\" id=\"sk-estimator-id-22\" type=\"checkbox\" checked><label for=\"sk-estimator-id-22\" class=\"sk-toggleable__label sk-toggleable__label-arrow\">LinearRegression</label><div class=\"sk-toggleable__content\"><pre>LinearRegression()</pre></div></div></div></div></div>"
      ],
      "text/plain": [
       "LinearRegression()"
      ]
     },
     "execution_count": 333,
     "metadata": {},
     "output_type": "execute_result"
    }
   ],
   "source": [
    "from sklearn.linear_model import LinearRegression\n",
    "lm2= LinearRegression()\n",
    "lm2"
   ]
  },
  {
   "cell_type": "code",
   "execution_count": 334,
   "id": "5dda1ebf-0868-4cb9-822a-dc01100c7317",
   "metadata": {},
   "outputs": [
    {
     "data": {
      "text/html": [
       "<style>#sk-container-id-23 {color: black;background-color: white;}#sk-container-id-23 pre{padding: 0;}#sk-container-id-23 div.sk-toggleable {background-color: white;}#sk-container-id-23 label.sk-toggleable__label {cursor: pointer;display: block;width: 100%;margin-bottom: 0;padding: 0.3em;box-sizing: border-box;text-align: center;}#sk-container-id-23 label.sk-toggleable__label-arrow:before {content: \"▸\";float: left;margin-right: 0.25em;color: #696969;}#sk-container-id-23 label.sk-toggleable__label-arrow:hover:before {color: black;}#sk-container-id-23 div.sk-estimator:hover label.sk-toggleable__label-arrow:before {color: black;}#sk-container-id-23 div.sk-toggleable__content {max-height: 0;max-width: 0;overflow: hidden;text-align: left;background-color: #f0f8ff;}#sk-container-id-23 div.sk-toggleable__content pre {margin: 0.2em;color: black;border-radius: 0.25em;background-color: #f0f8ff;}#sk-container-id-23 input.sk-toggleable__control:checked~div.sk-toggleable__content {max-height: 200px;max-width: 100%;overflow: auto;}#sk-container-id-23 input.sk-toggleable__control:checked~label.sk-toggleable__label-arrow:before {content: \"▾\";}#sk-container-id-23 div.sk-estimator input.sk-toggleable__control:checked~label.sk-toggleable__label {background-color: #d4ebff;}#sk-container-id-23 div.sk-label input.sk-toggleable__control:checked~label.sk-toggleable__label {background-color: #d4ebff;}#sk-container-id-23 input.sk-hidden--visually {border: 0;clip: rect(1px 1px 1px 1px);clip: rect(1px, 1px, 1px, 1px);height: 1px;margin: -1px;overflow: hidden;padding: 0;position: absolute;width: 1px;}#sk-container-id-23 div.sk-estimator {font-family: monospace;background-color: #f0f8ff;border: 1px dotted black;border-radius: 0.25em;box-sizing: border-box;margin-bottom: 0.5em;}#sk-container-id-23 div.sk-estimator:hover {background-color: #d4ebff;}#sk-container-id-23 div.sk-parallel-item::after {content: \"\";width: 100%;border-bottom: 1px solid gray;flex-grow: 1;}#sk-container-id-23 div.sk-label:hover label.sk-toggleable__label {background-color: #d4ebff;}#sk-container-id-23 div.sk-serial::before {content: \"\";position: absolute;border-left: 1px solid gray;box-sizing: border-box;top: 0;bottom: 0;left: 50%;z-index: 0;}#sk-container-id-23 div.sk-serial {display: flex;flex-direction: column;align-items: center;background-color: white;padding-right: 0.2em;padding-left: 0.2em;position: relative;}#sk-container-id-23 div.sk-item {position: relative;z-index: 1;}#sk-container-id-23 div.sk-parallel {display: flex;align-items: stretch;justify-content: center;background-color: white;position: relative;}#sk-container-id-23 div.sk-item::before, #sk-container-id-23 div.sk-parallel-item::before {content: \"\";position: absolute;border-left: 1px solid gray;box-sizing: border-box;top: 0;bottom: 0;left: 50%;z-index: -1;}#sk-container-id-23 div.sk-parallel-item {display: flex;flex-direction: column;z-index: 1;position: relative;background-color: white;}#sk-container-id-23 div.sk-parallel-item:first-child::after {align-self: flex-end;width: 50%;}#sk-container-id-23 div.sk-parallel-item:last-child::after {align-self: flex-start;width: 50%;}#sk-container-id-23 div.sk-parallel-item:only-child::after {width: 0;}#sk-container-id-23 div.sk-dashed-wrapped {border: 1px dashed gray;margin: 0 0.4em 0.5em 0.4em;box-sizing: border-box;padding-bottom: 0.4em;background-color: white;}#sk-container-id-23 div.sk-label label {font-family: monospace;font-weight: bold;display: inline-block;line-height: 1.2em;}#sk-container-id-23 div.sk-label-container {text-align: center;}#sk-container-id-23 div.sk-container {/* jupyter's `normalize.less` sets `[hidden] { display: none; }` but bootstrap.min.css set `[hidden] { display: none !important; }` so we also need the `!important` here to be able to override the default hidden behavior on the sphinx rendered scikit-learn.org. See: https://github.com/scikit-learn/scikit-learn/issues/21755 */display: inline-block !important;position: relative;}#sk-container-id-23 div.sk-text-repr-fallback {display: none;}</style><div id=\"sk-container-id-23\" class=\"sk-top-container\"><div class=\"sk-text-repr-fallback\"><pre>LinearRegression()</pre><b>In a Jupyter environment, please rerun this cell to show the HTML representation or trust the notebook. <br />On GitHub, the HTML representation is unable to render, please try loading this page with nbviewer.org.</b></div><div class=\"sk-container\" hidden><div class=\"sk-item\"><div class=\"sk-estimator sk-toggleable\"><input class=\"sk-toggleable__control sk-hidden--visually\" id=\"sk-estimator-id-23\" type=\"checkbox\" checked><label for=\"sk-estimator-id-23\" class=\"sk-toggleable__label sk-toggleable__label-arrow\">LinearRegression</label><div class=\"sk-toggleable__content\"><pre>LinearRegression()</pre></div></div></div></div></div>"
      ],
      "text/plain": [
       "LinearRegression()"
      ]
     },
     "execution_count": 334,
     "metadata": {},
     "output_type": "execute_result"
    }
   ],
   "source": [
    "lm2.fit(X_df_train,Y_df_train)\n",
    "lm2"
   ]
  },
  {
   "cell_type": "code",
   "execution_count": 335,
   "id": "aef74acf-140d-4414-b133-94ea18045022",
   "metadata": {},
   "outputs": [
    {
     "data": {
      "text/plain": [
       "0.2688807312098358"
      ]
     },
     "execution_count": 335,
     "metadata": {},
     "output_type": "execute_result"
    }
   ],
   "source": [
    "lm2.score(X_df_train,Y_df_train)"
   ]
  },
  {
   "cell_type": "code",
   "execution_count": 345,
   "id": "6faaded5-4513-4ac2-a0ea-9479dfa2db14",
   "metadata": {},
   "outputs": [
    {
     "data": {
      "text/plain": [
       "array([[ 807831.26645695],\n",
       "       [3250667.57232804],\n",
       "       [1621875.86860177],\n",
       "       ...,\n",
       "       [1621875.86860177],\n",
       "       [2512231.84663818],\n",
       "       [2708024.58955975]])"
      ]
     },
     "execution_count": 345,
     "metadata": {},
     "output_type": "execute_result"
    }
   ],
   "source": [
    "X_df_test = df_test[['superficeTerreno', 'baños', 'dormitorios', 'habitaciones', 'tipoPropiedad_numero', 'region_numero']]\n",
    "Yhat = lm2.predict(X_df_test)\n",
    "Yhat"
   ]
  },
  {
   "cell_type": "code",
   "execution_count": 341,
   "id": "f930d5ee-1e0a-4322-ba1b-380f4b8f6c5b",
   "metadata": {},
   "outputs": [],
   "source": [
    "Y_df_test=df_test[[\"precio\"]]"
   ]
  },
  {
   "cell_type": "code",
   "execution_count": 342,
   "id": "a2cb23b0-8d08-4666-8f84-b1a64c027b7e",
   "metadata": {},
   "outputs": [
    {
     "data": {
      "text/plain": [
       "0.24800739656790916"
      ]
     },
     "execution_count": 342,
     "metadata": {},
     "output_type": "execute_result"
    }
   ],
   "source": [
    "lm2.score(X_df_test,Y_df_test)"
   ]
  },
  {
   "cell_type": "code",
   "execution_count": 343,
   "id": "56d644b4-dca6-4962-b10b-beeb60eeb2ac",
   "metadata": {},
   "outputs": [
    {
     "name": "stdout",
     "output_type": "stream",
     "text": [
      "valor de la intercepcion (b) [-1745242.79369227]\n"
     ]
    }
   ],
   "source": [
    "print(\"valor de la intercepcion (b)\", lm2.intercept_)"
   ]
  },
  {
   "cell_type": "code",
   "execution_count": 344,
   "id": "fca5f942-a917-465e-b874-8a10e326790e",
   "metadata": {},
   "outputs": [
    {
     "name": "stdout",
     "output_type": "stream",
     "text": [
      "valor de los coeficionetes (w) [[ 1.23273834e+01  1.62866843e+06 -1.79200203e+05  3.53725690e+05\n",
      "  -5.04013501e+04  2.71364637e+05]]\n"
     ]
    }
   ],
   "source": [
    "print(\"valor de los coeficionetes (w)\", lm2.coef_)"
   ]
  },
  {
   "cell_type": "code",
   "execution_count": null,
   "id": "0fbcb598-5d59-4475-9cdd-3b01fedc28c7",
   "metadata": {},
   "outputs": [],
   "source": []
  },
  {
   "cell_type": "code",
   "execution_count": 1,
   "id": "2a85d030-5415-42cd-8f57-5f1c0d224097",
   "metadata": {},
   "outputs": [
    {
     "data": {
      "image/png": "[encoded data removed]",
      "text/plain": [
       "<Figure size 800x600 with 1 Axes>"
      ]
     },
     "metadata": {},
     "output_type": "display_data"
    }
   ],
   "source": [
    "import matplotlib.pyplot as plt\n",
    "import pandas as pd\n",
    "\n",
    "# Suponiendo que tienes un DataFrame llamado 'data' con tus datos\n",
    "# Aquí solo se incluye un ejemplo con datos aleatorios\n",
    "\n",
    "data = {\n",
    "    'habitaciones': [3, 4, 2, 3, 5],\n",
    "    'baños': [2, 3, 1, 2, 3],\n",
    "    'precio': [250000, 300000, 200000, 270000, 350000]\n",
    "}\n",
    "\n",
    "df = pd.DataFrame(data)\n",
    "\n",
    "# Crear el gráfico de dispersión\n",
    "plt.figure(figsize=(8, 6))\n",
    "plt.scatter(df['habitaciones'], df['precio'], color='blue', label='Habitaciones')\n",
    "plt.scatter(df['baños'], df['precio'], color='red', label='Baños')\n",
    "plt.xlabel('Número de habitaciones / baños')\n",
    "plt.ylabel('Precio')\n",
    "plt.title('Relación entre número de habitaciones / baños y precio')\n",
    "plt.legend()\n",
    "plt.grid(True)\n",
    "plt.show()\n"
   ]
  },
  {
   "cell_type": "code",
   "execution_count": 2,
   "id": "9fb379e6",
   "metadata": {},
   "outputs": [
    {
     "data": {
      "image/png": "[encoded data removed]",
      "text/plain": [
       "<Figure size 1000x400 with 3 Axes>"
      ]
     },
     "metadata": {},
     "output_type": "display_data"
    }
   ],
   "source": [
    "import matplotlib.pyplot as plt\n",
    "import pandas as pd\n",
    "\n",
    "# Suponiendo que tienes un DataFrame llamado 'data' con tus datos\n",
    "# Aquí solo se incluye un ejemplo con datos aleatorios\n",
    "\n",
    "data = {\n",
    "    'habitaciones': [3, 4, 2, 3, 5],\n",
    "    'baños': [2, 3, 1, 2, 3],\n",
    "    'precio': [250000, 300000, 200000, 270000, 350000]\n",
    "}\n",
    "\n",
    "df = pd.DataFrame(data)\n",
    "\n",
    "# Crear histogramas\n",
    "plt.figure(figsize=(10, 4))\n",
    "\n",
    "plt.subplot(1, 3, 1)\n",
    "plt.hist(df['habitaciones'], color='blue', bins=5)\n",
    "plt.xlabel('Número de habitaciones')\n",
    "plt.ylabel('Frecuencia')\n",
    "plt.title('Histograma de número de habitaciones')\n",
    "\n",
    "plt.subplot(1, 3, 2)\n",
    "plt.hist(df['baños'], color='red', bins=5)\n",
    "plt.xlabel('Número de baños')\n",
    "plt.ylabel('Frecuencia')\n",
    "plt.title('Histograma de número de baños')\n",
    "\n",
    "plt.subplot(1, 3, 3)\n",
    "plt.hist(df['precio'], color='green', bins=5)\n",
    "plt.xlabel('Precio')\n",
    "plt.ylabel('Frecuencia')\n",
    "plt.title('Histograma de precios')\n",
    "\n",
    "plt.tight_layout()\n",
    "plt.show()\n"
   ]
  },
  {
   "cell_type": "code",
   "execution_count": 3,
   "id": "5ee57404",
   "metadata": {},
   "outputs": [
    {
     "data": {
      "image/png": "[encoded data removed]",
      "text/plain": [
       "<Figure size 600x600 with 1 Axes>"
      ]
     },
     "metadata": {},
     "output_type": "display_data"
    }
   ],
   "source": [
    "import matplotlib.pyplot as plt\n",
    "import pandas as pd\n",
    "\n",
    "# Suponiendo que tienes un DataFrame llamado 'data' con tus datos\n",
    "# Aquí solo se incluye un ejemplo con datos aleatorios\n",
    "\n",
    "data = {\n",
    "    'tipoPropiedad': ['Casa', 'Departamento', 'Casa', 'Departamento', 'Casa', 'Departamento', 'Casa', 'Casa'],\n",
    "    'precio': [250000, 300000, 200000, 270000, 350000, 280000, 320000, 290000]\n",
    "}\n",
    "\n",
    "df = pd.DataFrame(data)\n",
    "\n",
    "# Calcular la cantidad de cada tipo de propiedad\n",
    "propiedad_counts = df['tipoPropiedad'].value_counts()\n",
    "\n",
    "# Crear el gráfico de pastel\n",
    "plt.figure(figsize=(6, 6))\n",
    "plt.pie(propiedad_counts, labels=propiedad_counts.index, autopct='%1.1f%%', startangle=140)\n",
    "plt.axis('equal')  # Hace que el gráfico de pastel sea circular\n",
    "plt.title('Distribución de tipos de propiedad')\n",
    "plt.show()\n"
   ]
  },
  {
   "cell_type": "code",
   "execution_count": 4,
   "id": "078050a1",
   "metadata": {},
   "outputs": [
    {
     "data": {
      "image/png": "[encoded data removed]",
      "text/plain": [
       "<Figure size 800x600 with 1 Axes>"
      ]
     },
     "metadata": {},
     "output_type": "display_data"
    }
   ],
   "source": [
    "import matplotlib.pyplot as plt\n",
    "import pandas as pd\n",
    "\n",
    "# Suponiendo que tienes un DataFrame llamado 'data' con tus datos\n",
    "# Aquí solo se incluye un ejemplo con datos aleatorios\n",
    "\n",
    "data = {\n",
    "    'tipoPropiedad': ['Casa', 'Departamento', 'Casa', 'Departamento', 'Casa', 'Departamento', 'Casa', 'Casa'],\n",
    "    'precio': [250000, 300000, 200000, 270000, 350000, 280000, 320000, 290000]\n",
    "}\n",
    "\n",
    "df = pd.DataFrame(data)\n",
    "\n",
    "# Crear el gráfico de caja\n",
    "plt.figure(figsize=(8, 6))\n",
    "plt.boxplot([df[df['tipoPropiedad'] == 'Casa']['precio'], df[df['tipoPropiedad'] == 'Departamento']['precio']], labels=['Casa', 'Departamento'])\n",
    "plt.xlabel('Tipo de Propiedad')\n",
    "plt.ylabel('Precio')\n",
    "plt.title('Distribución de precios por tipo de propiedad')\n",
    "plt.grid(True)\n",
    "plt.show()\n"
   ]
  },
  {
   "cell_type": "code",
   "execution_count": null,
   "id": "66dbfb0a",
   "metadata": {},
   "outputs": [],
   "source": []
  }
 ],
 "metadata": {
  "kernelspec": {
   "display_name": "Python 3 (ipykernel)",
   "language": "python",
   "name": "python3"
  },
  "language_info": {
   "codemirror_mode": {
    "name": "ipython",
    "version": 3
   },
   "file_extension": ".py",
   "mimetype": "text/x-python",
   "name": "python",
   "nbconvert_exporter": "python",
   "pygments_lexer": "ipython3",
   "version": "3.11.7"
  }
 },
 "nbformat": 4,
 "nbformat_minor": 5
}
